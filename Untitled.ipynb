{
 "cells": [
  {
   "cell_type": "code",
   "execution_count": 1,
   "metadata": {},
   "outputs": [
    {
     "name": "stdout",
     "output_type": "stream",
     "text": [
      "Found 4 GPU(s)\n",
      "Using GPU 1\n"
     ]
    },
    {
     "name": "stderr",
     "output_type": "stream",
     "text": [
      "/opt/anaconda2/lib/python2.7/site-packages/h5py/__init__.py:36: FutureWarning: Conversion of the second argument of issubdtype from `float` to `np.floating` is deprecated. In future, it will be treated as `np.float64 == np.dtype(float).type`.\n",
      "  from ._conv import register_converters as _register_converters\n",
      "Using TensorFlow backend.\n"
     ]
    }
   ],
   "source": [
    "from nodule import full_process"
   ]
  },
  {
   "cell_type": "code",
   "execution_count": 2,
   "metadata": {
    "scrolled": true
   },
   "outputs": [
    {
     "name": "stdout",
     "output_type": "stream",
     "text": [
      "\n",
      "\n",
      "\n",
      "****************************************************************************************************\n",
      "*                                                                                                  *\n",
      "*                                                                                                  *\n",
      "*                                         READING CTS ...                                          *\n",
      "*                                                                                                  *\n",
      "*                                                                                                  *\n",
      "****************************************************************************************************\n",
      "found ct:  /data2/20180507/noduledata/DOI/LIDC-IDRI-0001/1.3.6.1.4.1.14519.5.2.1.6279.6001.298806137288633453246975630178/1.3.6.1.4.1.14519.5.2.1.6279.6001.179049373636438705059720603192\n",
      "\n",
      "\n",
      "\n",
      "\t\t1 CTs found ...\n",
      "\n",
      "\n",
      "\n",
      "\n",
      "\n",
      "\n",
      "****************************************************************************************************\n",
      "*                                                                                                  *\n",
      "*                                                                                                  *\n",
      "*                                        LOADING CACHE ...                                         *\n",
      "*                                                                                                  *\n",
      "*                                                                                                  *\n",
      "****************************************************************************************************\n",
      "\n",
      "\n",
      "\n",
      "\t\t0 cached CTs found ... \n",
      "\n",
      "\n",
      "\n",
      "\n",
      "\n",
      "\n",
      "****************************************************************************************************\n",
      "*                                                                                                  *\n",
      "*                                                                                                  *\n",
      "*                                        PREPROCESSING ...                                         *\n",
      "*                                                                                                  *\n",
      "*                                                                                                  *\n",
      "****************************************************************************************************\n",
      "preprocess|====================================================================================>|100%\n",
      "\n",
      "\n",
      "\t\tpreprocessing done!\n",
      "\n",
      "\n",
      "\n",
      "\n",
      "\n",
      "\n",
      "****************************************************************************************************\n",
      "*                                                                                                  *\n",
      "*                                                                                                  *\n",
      "*                                       START 2D DETECTION!                                        *\n",
      "*                                                                                                  *\n",
      "*                                                                                                  *\n",
      "****************************************************************************************************\n",
      "INFO:tensorflow:Restoring parameters from /data2/model_weights/zwq/ssd/final/v3/ssd_300_vgg-200\n",
      "\n",
      "\n",
      "\n",
      "\n",
      "\n",
      "\n",
      "****************************************************************************************************\n",
      "*                                                                                                  *\n",
      "*                                                                                                  *\n",
      "*                                     START 2D CLASSIFICATION!                                     *\n",
      "*                                                                                                  *\n",
      "*                                                                                                  *\n",
      "****************************************************************************************************\n"
     ]
    },
    {
     "name": "stderr",
     "output_type": "stream",
     "text": [
      "src/two_d_classify.py:22: UserWarning: Update your `Model` call to the Keras 2 API: `Model(outputs=Tensor(\"de..., inputs=Tensor(\"in...)`\n",
      "  model = Model(input=base_model.input, output=predictions)\n"
     ]
    },
    {
     "name": "stdout",
     "output_type": "stream",
     "text": [
      "\n",
      "\n",
      "\n",
      "\n",
      "\n",
      "\n",
      "****************************************************************************************************\n",
      "*                                                                                                  *\n",
      "*                                                                                                  *\n",
      "*                                           3D DETECTION                                           *\n",
      "*                                                                                                  *\n",
      "*                                                                                                  *\n",
      "****************************************************************************************************\n",
      "new1\n",
      "Detection3D|===================================================================================>|100%\n",
      "\n",
      "\n",
      "cluster (29, 6)\n",
      "\n",
      "\n",
      "\n",
      "\t\t3D detection finished!\n",
      "\n",
      "\n",
      "\n",
      "\n",
      "\n",
      "\n",
      "****************************************************************************************************\n",
      "*                                                                                                  *\n",
      "*                                                                                                  *\n",
      "*                                        3D CLASSIFICATION                                         *\n",
      "*                                                                                                  *\n",
      "*                                                                                                  *\n",
      "****************************************************************************************************\n"
     ]
    },
    {
     "name": "stderr",
     "output_type": "stream",
     "text": [
      "src/wrnet.py:139: UserWarning: Update your `Model` call to the Keras 2 API: `Model(outputs=Tensor(\"de..., inputs=Tensor(\"ma...)`\n",
      "  model = Model(input=main_input, output=fc2)\n"
     ]
    },
    {
     "name": "stdout",
     "output_type": "stream",
     "text": [
      "Classification3D|==============================================================================>|100%\n",
      "\n",
      "\n",
      "dbscan|========================================================================================>|100%\n",
      "\n",
      "\n",
      "\t\t3D classification finished!\n",
      "\n",
      "\n",
      "\n"
     ]
    },
    {
     "name": "stderr",
     "output_type": "stream",
     "text": [
      "src/symptom.py:18: UserWarning: Update your `Model` call to the Keras 2 API: `Model(outputs=Tensor(\"de..., inputs=Tensor(\"in...)`\n",
      "  model = Model(input=base_model.input, output=predictions)\n"
     ]
    },
    {
     "name": "stdout",
     "output_type": "stream",
     "text": [
      "\r",
      "Segmentation3D|================================================================================>|100%"
     ]
    }
   ],
   "source": [
    "result = full_process('./test_path.txt')"
   ]
  },
  {
   "cell_type": "code",
   "execution_count": 4,
   "metadata": {},
   "outputs": [
    {
     "data": {
      "text/plain": [
       "['/data2/20180507/noduledata/DOI/LIDC-IDRI-0001/1.3.6.1.4.1.14519.5.2.1.6279.6001.298806137288633453246975630178/1.3.6.1.4.1.14519.5.2.1.6279.6001.179049373636438705059720603192',\n",
       " {'cls_probability': 0.95685303,\n",
       "  'coordX': 380.772707568,\n",
       "  'coordY': 114.631129122,\n",
       "  'coordZ': 106.191635636,\n",
       "  'density': 0,\n",
       "  'det_probability': 0.429691711796,\n",
       "  'greater_diameter_mm': 0,\n",
       "  'probability': 0.693272370898,\n",
       "  'probability_boundary_blur': 0,\n",
       "  'probability_boundary_fenye': 0,\n",
       "  'probability_boundary_maoci': 0,\n",
       "  'probability_boundary_smooth': 0,\n",
       "  'probability_ggo': 0.0767652,\n",
       "  'probability_internal_calcification': 0,\n",
       "  'probability_mix': 0.023878828,\n",
       "  'probability_solid': 0.899356,\n",
       "  'seriesuid': '1.3.6.1.4.1.14519.5.2.1.6279.6001.179049373636438705059720603192',\n",
       "  'smaller_diameter_mm': 0}]"
      ]
     },
     "execution_count": 4,
     "metadata": {},
     "output_type": "execute_result"
    }
   ],
   "source": [
    "result"
   ]
  },
  {
   "cell_type": "code",
   "execution_count": 1,
   "metadata": {},
   "outputs": [],
   "source": [
    "from sklearn.manifold import TSNE\n",
    "from sklearn.datasets import load_iris\n",
    "import matplotlib.pyplot as plt\n",
    "\n",
    "iris = load_iris()"
   ]
  },
  {
   "cell_type": "code",
   "execution_count": 4,
   "metadata": {},
   "outputs": [],
   "source": [
    "x_tsne = TSNE(learning_rate=100).fit_transform(iris.data)"
   ]
  },
  {
   "cell_type": "code",
   "execution_count": 9,
   "metadata": {},
   "outputs": [
    {
     "name": "stdout",
     "output_type": "stream",
     "text": [
      "<type 'numpy.ndarray'>\n"
     ]
    }
   ],
   "source": [
    "print type(iris.data)"
   ]
  },
  {
   "cell_type": "code",
   "execution_count": 10,
   "metadata": {},
   "outputs": [
    {
     "name": "stdout",
     "output_type": "stream",
     "text": [
      "<type 'numpy.ndarray'>\n"
     ]
    }
   ],
   "source": [
    "print type(iris.target)"
   ]
  },
  {
   "cell_type": "code",
   "execution_count": 6,
   "metadata": {
    "collapsed": true
   },
   "outputs": [
    {
     "name": "stdout",
     "output_type": "stream",
     "text": [
      "[[ 11.176599   19.934929 ]\n",
      " [ 10.469807   17.253357 ]\n",
      " [ 11.628277   17.512056 ]\n",
      " [ 11.270091   17.022388 ]\n",
      " [ 10.84178    20.045916 ]\n",
      " [ 10.500368   21.883638 ]\n",
      " [ 11.997019   17.721117 ]\n",
      " [ 10.872728   19.24865  ]\n",
      " [ 11.392654   16.278442 ]\n",
      " [ 10.661846   17.855062 ]\n",
      " [ 11.1917305  21.430923 ]\n",
      " [ 10.506058   18.636326 ]\n",
      " [ 10.751768   17.05971  ]\n",
      " [ 12.002947   16.233282 ]\n",
      " [ 11.298496   22.69272  ]\n",
      " [ 10.753109   22.883675 ]\n",
      " [ 10.958904   22.010595 ]\n",
      " [ 10.972365   20.00594  ]\n",
      " [ 11.437137   22.174742 ]\n",
      " [ 10.427322   21.048956 ]\n",
      " [ 11.814061   20.808977 ]\n",
      " [ 10.417222   20.698002 ]\n",
      " [ 12.748351   17.94273  ]\n",
      " [  9.8205595  19.562866 ]\n",
      " [  9.631331   18.649895 ]\n",
      " [ 10.023743   17.68289  ]\n",
      " [ 10.237636   19.494421 ]\n",
      " [ 11.149746   20.376835 ]\n",
      " [ 11.508757   19.960709 ]\n",
      " [ 11.080637   17.70364  ]\n",
      " [ 10.445872   17.605968 ]\n",
      " [ 11.71554    20.760414 ]\n",
      " [ 10.220904   22.084547 ]\n",
      " [ 10.689275   22.580538 ]\n",
      " [ 10.661846   17.855062 ]\n",
      " [ 11.611042   18.508667 ]\n",
      " [ 11.844588   21.271208 ]\n",
      " [ 10.661846   17.855062 ]\n",
      " [ 11.683304   16.43375  ]\n",
      " [ 10.98051    19.579836 ]\n",
      " [ 11.447714   19.539364 ]\n",
      " [ 10.851429   15.74845  ]\n",
      " [ 12.063198   16.82938  ]\n",
      " [  9.814534   19.982412 ]\n",
      " [  9.681553   21.187885 ]\n",
      " [ 10.74163    17.026028 ]\n",
      " [ 10.331713   21.12366  ]\n",
      " [ 11.618739   17.252855 ]\n",
      " [ 11.00025    21.188765 ]\n",
      " [ 11.154682   18.871294 ]\n",
      " [ -7.787243  -11.748396 ]\n",
      " [ -6.9569864 -10.29468  ]\n",
      " [ -7.4335203 -12.129403 ]\n",
      " [ -7.0197277  -5.2035856]\n",
      " [ -6.8907847 -10.818564 ]\n",
      " [ -6.857786   -7.459565 ]\n",
      " [ -6.2706203 -10.499356 ]\n",
      " [ -6.999716   -3.714267 ]\n",
      " [ -7.3525524 -10.831896 ]\n",
      " [ -7.40166    -5.219982 ]\n",
      " [ -7.190172   -3.881163 ]\n",
      " [ -6.445232   -7.694569 ]\n",
      " [ -5.552867   -5.387631 ]\n",
      " [ -6.198255   -9.597255 ]\n",
      " [ -6.165966   -5.0083947]\n",
      " [ -7.694265  -10.769634 ]\n",
      " [ -7.0331993  -7.6635413]\n",
      " [ -6.200703   -6.0711102]\n",
      " [ -4.581919   -8.644293 ]\n",
      " [ -6.561448   -5.2655854]\n",
      " [ -4.9406643 -10.445372 ]\n",
      " [ -5.919996   -6.938093 ]\n",
      " [ -5.4704676 -11.585463 ]\n",
      " [ -6.332401   -9.257563 ]\n",
      " [ -7.331032   -9.632692 ]\n",
      " [ -7.5192723 -10.491188 ]\n",
      " [ -7.2830005 -11.697676 ]\n",
      " [ -6.6929636 -12.750503 ]\n",
      " [ -6.336994   -8.846197 ]\n",
      " [ -6.2177725  -4.5639343]\n",
      " [ -6.7449274  -4.8553762]\n",
      " [ -6.659507   -4.6204658]\n",
      " [ -6.2805343  -5.7961373]\n",
      " [ -4.390747  -11.737712 ]\n",
      " [ -7.3770137  -7.3594236]\n",
      " [ -5.78769    -9.750068 ]\n",
      " [ -7.361988  -11.430937 ]\n",
      " [ -4.790846   -8.434685 ]\n",
      " [ -6.9115186  -6.618399 ]\n",
      " [ -6.955541   -5.487646 ]\n",
      " [ -7.3465424  -6.3238435]\n",
      " [ -6.396892   -9.423414 ]\n",
      " [ -6.3088603  -5.8522325]\n",
      " [ -6.985194   -3.7622118]\n",
      " [ -6.9634156  -6.2693224]\n",
      " [ -6.7090364  -6.8693657]\n",
      " [ -6.7043457  -6.82882  ]\n",
      " [ -6.9190598  -8.849512 ]\n",
      " [ -6.8607016  -3.5849347]\n",
      " [ -6.603343   -6.3981395]\n",
      " [ -4.25356   -16.402704 ]\n",
      " [ -3.6633701 -11.514993 ]\n",
      " [ -4.5916767 -17.578758 ]\n",
      " [ -4.2537117 -14.504068 ]\n",
      " [ -4.4448276 -16.029627 ]\n",
      " [ -4.637861  -18.947338 ]\n",
      " [ -4.7378182  -6.3270807]\n",
      " [ -4.22745   -18.405975 ]\n",
      " [ -3.4785814 -15.641383 ]\n",
      " [ -5.2915316 -17.998102 ]\n",
      " [ -5.787812  -14.476648 ]\n",
      " [ -4.7095428 -13.766974 ]\n",
      " [ -5.370016  -16.081432 ]\n",
      " [ -3.3028913 -11.306321 ]\n",
      " [ -3.022589  -11.8987465]\n",
      " [ -5.472571  -15.289291 ]\n",
      " [ -4.645381  -14.684475 ]\n",
      " [ -4.278363  -19.375278 ]\n",
      " [ -4.992207  -19.206244 ]\n",
      " [ -3.8132403 -10.094686 ]\n",
      " [ -5.1904464 -16.944435 ]\n",
      " [ -3.3797624 -11.132148 ]\n",
      " [ -4.7447467 -19.068092 ]\n",
      " [ -5.090532  -11.92265  ]\n",
      " [ -4.8951864 -16.512894 ]\n",
      " [ -4.24357   -17.934416 ]\n",
      " [ -5.100312  -11.376241 ]\n",
      " [ -4.866415  -11.125344 ]\n",
      " [ -4.3045897 -15.166934 ]\n",
      " [ -3.9243038 -17.793652 ]\n",
      " [ -4.2576075 -18.314053 ]\n",
      " [ -4.180717  -19.32724  ]\n",
      " [ -4.3523607 -15.340306 ]\n",
      " [ -5.330271  -12.143194 ]\n",
      " [ -3.8065898 -13.270261 ]\n",
      " [ -4.766584  -18.631136 ]\n",
      " [ -4.932974  -15.855643 ]\n",
      " [ -4.676294  -14.62805  ]\n",
      " [ -4.8654013 -10.78179  ]\n",
      " [ -5.7670965 -16.20439  ]\n",
      " [ -5.2081084 -16.36156  ]\n",
      " [ -6.2377753 -15.723271 ]\n",
      " [ -3.6626627 -11.5144825]\n",
      " [ -4.837491  -17.00467  ]\n",
      " [ -5.254783  -16.710144 ]\n",
      " [ -5.9323626 -15.499366 ]\n",
      " [ -4.7276735 -12.330341 ]\n",
      " [ -5.438633  -14.450295 ]\n",
      " [ -5.2665205 -15.36571  ]\n",
      " [ -4.195506  -11.354462 ]]\n"
     ]
    }
   ],
   "source": [
    "print x_tsne"
   ]
  },
  {
   "cell_type": "code",
   "execution_count": 8,
   "metadata": {},
   "outputs": [
    {
     "data": {
      "text/plain": [
       "<matplotlib.collections.PathCollection at 0x7f2e3c2b1b90>"
      ]
     },
     "execution_count": 8,
     "metadata": {},
     "output_type": "execute_result"
    },
    {
     "data": {
      "image/png": "[encoded data removed]",
      "text/plain": [
       "<Figure size 720x720 with 1 Axes>"
      ]
     },
     "metadata": {},
     "output_type": "display_data"
    }
   ],
   "source": [
    "plt.figure(figsize = (10,10))\n",
    "plt.scatter(x_tsne[:,0], x_tsne[:,1], c=iris.target)"
   ]
  },
  {
   "cell_type": "code",
   "execution_count": null,
   "metadata": {},
   "outputs": [],
   "source": []
  }
 ],
 "metadata": {
  "kernelspec": {
   "display_name": "Python 2",
   "language": "python",
   "name": "python2"
  },
  "language_info": {
   "codemirror_mode": {
    "name": "ipython",
    "version": 2
   },
   "file_extension": ".py",
   "mimetype": "text/x-python",
   "name": "python",
   "nbconvert_exporter": "python",
   "pygments_lexer": "ipython2",
   "version": "2.7.15"
  }
 },
 "nbformat": 4,
 "nbformat_minor": 2
}
